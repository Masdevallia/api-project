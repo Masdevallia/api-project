{
 "cells": [
  {
   "cell_type": "code",
   "execution_count": 4,
   "metadata": {},
   "outputs": [
    {
     "name": "stdout",
     "output_type": "stream",
     "text": [
      "{'message_1': {'user': 'Sandra', 'date': '2019-12-01', 'time': '18:11:45', 'text': 'Daffodils?'}, 'message_2': {'user': 'Edward', 'date': '2019-12-01', 'time': '18:14:14', 'text': \"They're your favorite flower.\"}, 'message_3': {'user': 'Sandra', 'date': '2019-12-01', 'time': '18:14:27', 'text': 'How did you get so many?'}, 'message_4': {'user': 'Edward', 'date': '2019-12-01', 'time': '18:14:45', 'text': 'I called everywhere in five states and explained this was the only way I could get my wife to marry me.'}, 'message_5': {'user': 'Sandra', 'date': '2019-12-01', 'time': '18:15:05', 'text': \"You don't even know me.\"}, 'message_6': {'user': 'Edward', 'date': '2019-12-01', 'time': '18:15:20', 'text': 'I have the rest of my life to find out.'}}\n"
     ]
    }
   ],
   "source": [
    "import requests\n",
    "chat_id = 8\n",
    "data = requests.get(f'http://localhost:8080/chat/{chat_id}/list').json()\n",
    "print(data)"
   ]
  },
  {
   "cell_type": "code",
   "execution_count": 5,
   "metadata": {},
   "outputs": [
    {
     "name": "stdout",
     "output_type": "stream",
     "text": [
      "{'messages': {'message_1': {'user': 'John Wick', 'date': '2019-10-17', 'time': '10:15:41', 'text': 'Hey Mike, whats up??', 'sentiments': {'neg': 0.0, 'neu': 1.0, 'pos': 0.0, 'compound': 0.0}}, 'message_2': {'user': 'Mike Wazowski', 'date': '2019-10-17', 'time': '10:16:59', 'text': 'Dude!!! 😀️ Did you watch the game last night?', 'sentiments': {'neg': 0.0, 'neu': 1.0, 'pos': 0.0, 'compound': 0.0}}, 'message_3': {'user': 'John Wick', 'date': '2019-10-17', 'time': '10:17:31', 'text': 'No, had to work. How was it?', 'sentiments': {'neg': 0.268, 'neu': 0.732, 'pos': 0.0, 'compound': -0.296}}, 'message_4': {'user': 'Mike Wazowski', 'date': '2019-10-17', 'time': '10:18:41', 'text': 'Awesome! Boyander scored 3 goals!', 'sentiments': {'neg': 0.0, 'neu': 0.39, 'pos': 0.61, 'compound': 0.6892}}, 'message_5': {'user': 'John Wick', 'date': '2019-10-17', 'time': '10:19:41', 'text': 'No way! 😮️', 'sentiments': {'neg': 0.555, 'neu': 0.445, 'pos': 0.0, 'compound': -0.3595}}, 'message_6': {'user': 'Mike Wazowski', 'date': '2019-10-17', 'time': '10:20:41', 'text': 'Way...', 'sentiments': {'neg': 0.0, 'neu': 1.0, 'pos': 0.0, 'compound': 0.0}}, 'message_7': {'user': 'John Wick', 'date': '2019-10-17', 'time': '10:21:41', 'text': 'I bet people went crazy', 'sentiments': {'neg': 0.444, 'neu': 0.556, 'pos': 0.0, 'compound': -0.34}}, 'message_8': {'user': 'Mike Wazowski', 'date': '2019-10-17', 'time': '10:22:41', 'text': 'For sure. We stayed at KuboLoco until 6AM.', 'sentiments': {'neg': 0.0, 'neu': 0.753, 'pos': 0.247, 'compound': 0.3182}}, 'message_9': {'user': 'John Wick', 'date': '2019-10-17', 'time': '10:23:41', 'text': 'Motherfucker! Hungover? 😵️', 'sentiments': {'neg': 0.71, 'neu': 0.29, 'pos': 0.0, 'compound': -0.7088}}, 'message_10': {'user': 'Mike Wazowski', 'date': '2019-10-17', 'time': '10:24:41', 'text': 'Dead, burried and still suffering! 🤮️', 'sentiments': {'neg': 0.658, 'neu': 0.342, 'pos': 0.0, 'compound': -0.8268}}, 'message_11': {'user': 'John Wick', 'date': '2019-12-01', 'time': '01:06:52', 'text': 'hahaha', 'sentiments': {'neg': 0.0, 'neu': 0.0, 'pos': 1.0, 'compound': 0.5574}}, 'message_12': {'user': 'Mike Wazowski', 'date': '2019-12-01', 'time': '01:12:38', 'text': 'Moron!', 'sentiments': {'neg': 1.0, 'neu': 0.0, 'pos': 0.0, 'compound': -0.5411}}, 'message_13': {'user': 'John Wick', 'date': '2019-12-01', 'time': '01:23:02', 'text': 'Sorry dude...', 'sentiments': {'neg': 0.565, 'neu': 0.435, 'pos': 0.0, 'compound': -0.0772}}}, 'chat_sentiment_analysis': {'mean_neg': 0.3230769230769231, 'mean_neu': 0.5340769230769231, 'mean_pos': 0.14284615384615384, 'mean_compound': -0.12189230769230769}}\n"
     ]
    }
   ],
   "source": [
    "import requests\n",
    "chat_id = 0\n",
    "newdata = requests.get(f'http://localhost:8080/chat/{chat_id}/sentiment').json()\n",
    "print(newdata)"
   ]
  },
  {
   "cell_type": "code",
   "execution_count": 7,
   "metadata": {},
   "outputs": [
    {
     "name": "stdout",
     "output_type": "stream",
     "text": [
      "{'ObjectId': '5de52ac40e90c8c3a0ba4b7b', 'UserId': 18}\n"
     ]
    }
   ],
   "source": [
    "import requests\n",
    "newuser = {'username': 'Edward'}\n",
    "newdata2 = requests.post('http://localhost:8080/user/create', data=newuser).json()\n",
    "print(newdata2)"
   ]
  },
  {
   "cell_type": "code",
   "execution_count": 9,
   "metadata": {},
   "outputs": [
    {
     "name": "stdout",
     "output_type": "stream",
     "text": [
      "{'ObjectId': '5de52b690e90c8c3a0ba4b7c', 'ChatId': 10}\n"
     ]
    }
   ],
   "source": [
    "import requests\n",
    "newchat = {'users': '[2, 10]'}\n",
    "newdata3 = requests.post('http://localhost:8080/chat/create', data=newchat).json()\n",
    "print(newdata3)"
   ]
  },
  {
   "cell_type": "code",
   "execution_count": 11,
   "metadata": {},
   "outputs": [
    {
     "name": "stdout",
     "output_type": "stream",
     "text": [
      "{'UserId': 11, 'ChatId': 9}\n"
     ]
    }
   ],
   "source": [
    "import requests\n",
    "chat_id = 9\n",
    "user = {'userId': 11}\n",
    "newdata4 = requests.post(f'http://localhost:8080/chat/{chat_id}/adduser', data=user).json()\n",
    "print(newdata4)"
   ]
  },
  {
   "cell_type": "code",
   "execution_count": 13,
   "metadata": {},
   "outputs": [
    {
     "name": "stdout",
     "output_type": "stream",
     "text": [
      "{'ObjectId': '5de52bf70e90c8c3a0ba4b7d', 'MessageId': 6}\n"
     ]
    }
   ],
   "source": [
    "import requests\n",
    "chat_id = 8\n",
    "message = {'user':17, 'message': \"hahaha\"}\n",
    "newdata5 = requests.post(f'http://localhost:8080/chat/{chat_id}/addmessage', data=message).json()\n",
    "print(newdata5)"
   ]
  },
  {
   "cell_type": "code",
   "execution_count": 15,
   "metadata": {},
   "outputs": [
    {
     "name": "stdout",
     "output_type": "stream",
     "text": [
      "{'recommended_users_ids': [3, 1, 8], 'recommended_users_names': ['Tony Stark', 'Mike Wazowski', 'Cristina Rota']}\n"
     ]
    }
   ],
   "source": [
    "import requests\n",
    "user_id = 0\n",
    "newdata6 = requests.get(f'http://localhost:8080/user/{user_id}/recommend').json()\n",
    "print(newdata6)"
   ]
  },
  {
   "cell_type": "code",
   "execution_count": null,
   "metadata": {},
   "outputs": [],
   "source": []
  }
 ],
 "metadata": {
  "kernelspec": {
   "display_name": "Python 3",
   "language": "python",
   "name": "python3"
  },
  "language_info": {
   "codemirror_mode": {
    "name": "ipython",
    "version": 3
   },
   "file_extension": ".py",
   "mimetype": "text/x-python",
   "name": "python",
   "nbconvert_exporter": "python",
   "pygments_lexer": "ipython3",
   "version": "3.7.3"
  }
 },
 "nbformat": 4,
 "nbformat_minor": 2
}
