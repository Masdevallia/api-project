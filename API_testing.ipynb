{
 "cells": [
  {
   "cell_type": "code",
   "execution_count": 69,
   "metadata": {},
   "outputs": [
    {
     "name": "stdout",
     "output_type": "stream",
     "text": [
      "{'message_1': {'user': 'Sandra', 'date': '2019-12-01', 'time': '18:11:45', 'text': 'Daffodils?'}, 'message_2': {'user': 'Edward', 'date': '2019-12-01', 'time': '18:14:14', 'text': \"They're your favorite flower.\"}, 'message_3': {'user': 'Sandra', 'date': '2019-12-01', 'time': '18:14:27', 'text': 'How did you get so many?'}, 'message_4': {'user': 'Edward', 'date': '2019-12-01', 'time': '18:14:45', 'text': 'I called everywhere in five states and explained this was the only way I could get my wife to marry me.'}, 'message_5': {'user': 'Sandra', 'date': '2019-12-01', 'time': '18:15:05', 'text': \"You don't even know me.\"}, 'message_6': {'user': 'Edward', 'date': '2019-12-01', 'time': '18:15:20', 'text': 'I have the rest of my life to find out.'}}\n"
     ]
    }
   ],
   "source": [
    "import requests\n",
    "chat_id = 8\n",
    "data = requests.get(f'http://localhost:8080/chat/{chat_id}/list').json()\n",
    "print(data)"
   ]
  },
  {
   "cell_type": "code",
   "execution_count": 71,
   "metadata": {},
   "outputs": [
    {
     "name": "stdout",
     "output_type": "stream",
     "text": [
      "{'messages': {'message_1': {'user': 'Sandra', 'date': '2019-12-01', 'time': '18:11:45', 'text': 'Daffodils?', 'sentiments': {'neg': 0.0, 'neu': 1.0, 'pos': 0.0, 'compound': 0.0}}, 'message_2': {'user': 'Edward', 'date': '2019-12-01', 'time': '18:14:14', 'text': \"They're your favorite flower.\", 'sentiments': {'neg': 0.0, 'neu': 0.5, 'pos': 0.5, 'compound': 0.4588}}, 'message_3': {'user': 'Sandra', 'date': '2019-12-01', 'time': '18:14:27', 'text': 'How did you get so many?', 'sentiments': {'neg': 0.0, 'neu': 1.0, 'pos': 0.0, 'compound': 0.0}}, 'message_4': {'user': 'Edward', 'date': '2019-12-01', 'time': '18:14:45', 'text': 'I called everywhere in five states and explained this was the only way I could get my wife to marry me.', 'sentiments': {'neg': 0.0, 'neu': 1.0, 'pos': 0.0, 'compound': 0.0}}, 'message_5': {'user': 'Sandra', 'date': '2019-12-01', 'time': '18:15:05', 'text': \"You don't even know me.\", 'sentiments': {'neg': 0.0, 'neu': 1.0, 'pos': 0.0, 'compound': 0.0}}, 'message_6': {'user': 'Edward', 'date': '2019-12-01', 'time': '18:15:20', 'text': 'I have the rest of my life to find out.', 'sentiments': {'neg': 0.0, 'neu': 1.0, 'pos': 0.0, 'compound': 0.0}}}, 'chat_sentiment_analysis': {'mean_neg': 0.0, 'mean_neu': 0.9166666666666666, 'mean_pos': 0.08333333333333333, 'mean_compound': 0.07646666666666667}}\n"
     ]
    }
   ],
   "source": [
    "import requests\n",
    "chat_id = 8\n",
    "newdata = requests.get(f'http://localhost:8080/chat/{chat_id}/sentiment').json()\n",
    "print(newdata)"
   ]
  },
  {
   "cell_type": "code",
   "execution_count": 31,
   "metadata": {},
   "outputs": [
    {
     "name": "stdout",
     "output_type": "stream",
     "text": [
      "{'ObjectId': '5de402425c09b80788493bc7', 'UserId': 17}\n"
     ]
    }
   ],
   "source": [
    "import requests\n",
    "newuser = {'username': 'Edward'}\n",
    "newdata2 = requests.post('http://localhost:8080/user/create', data=newuser).json()\n",
    "print(newdata2)"
   ]
  },
  {
   "cell_type": "code",
   "execution_count": 41,
   "metadata": {},
   "outputs": [
    {
     "name": "stdout",
     "output_type": "stream",
     "text": [
      "{'ObjectId': '5de403e75c09b80788493bd1', 'ChatId': 9}\n"
     ]
    }
   ],
   "source": [
    "import requests\n",
    "newchat = {'users': '[8, 9, 10]'}\n",
    "newdata3 = requests.post('http://localhost:8080/chat/create', data=newchat).json()\n",
    "print(newdata3)"
   ]
  },
  {
   "cell_type": "code",
   "execution_count": 15,
   "metadata": {},
   "outputs": [
    {
     "name": "stdout",
     "output_type": "stream",
     "text": [
      "{'Exception': 'Sorry, the user you are trying to include does not exist in the database. You must create it first.'}\n"
     ]
    }
   ],
   "source": [
    "import requests\n",
    "chat_id = 0\n",
    "user = {'userId': 23}\n",
    "newdata4 = requests.post(f'http://localhost:8080/chat/{chat_id}/adduser', data=user).json()\n",
    "print(newdata4)"
   ]
  },
  {
   "cell_type": "code",
   "execution_count": 59,
   "metadata": {},
   "outputs": [
    {
     "name": "stdout",
     "output_type": "stream",
     "text": [
      "{'ObjectId': '5de406ca5c09b80788493be3', 'MessageId': 12}\n"
     ]
    }
   ],
   "source": [
    "import requests\n",
    "chat_id = 5\n",
    "message = {'user':10, 'message': \"hahaha\"}\n",
    "newdata5 = requests.post(f'http://localhost:8080/chat/{chat_id}/addmessage', data=message).json()\n",
    "print(newdata5)"
   ]
  },
  {
   "cell_type": "code",
   "execution_count": 70,
   "metadata": {},
   "outputs": [
    {
     "name": "stdout",
     "output_type": "stream",
     "text": [
      "{'recommended_users': [3, 9, 16]}\n"
     ]
    }
   ],
   "source": [
    "import requests\n",
    "user_id = 8\n",
    "newdata6 = requests.get(f'http://localhost:8080/user/{user_id}/recommend').json()\n",
    "print(newdata6)"
   ]
  }
 ],
 "metadata": {
  "kernelspec": {
   "display_name": "Python 3",
   "language": "python",
   "name": "python3"
  },
  "language_info": {
   "codemirror_mode": {
    "name": "ipython",
    "version": 3
   },
   "file_extension": ".py",
   "mimetype": "text/x-python",
   "name": "python",
   "nbconvert_exporter": "python",
   "pygments_lexer": "ipython3",
   "version": "3.7.3"
  }
 },
 "nbformat": 4,
 "nbformat_minor": 2
}
