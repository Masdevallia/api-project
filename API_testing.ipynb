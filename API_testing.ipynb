{
 "cells": [
  {
   "cell_type": "code",
   "execution_count": 32,
   "metadata": {},
   "outputs": [
    {
     "name": "stdout",
     "output_type": "stream",
     "text": [
      "{'message_1': 'Hey Mike, whats up??', 'message_2': 'Dude!!! 😀️ Did you watch the game last night?', 'message_3': 'No, had to work. How was it?', 'message_4': 'Awesome! Boyander scored 3 goals!', 'message_5': 'No way! 😮️', 'message_6': 'Way...', 'message_7': 'I bet people went crazy', 'message_8': 'For sure. We stayed at KuboLoco until 6AM.', 'message_9': 'Motherfucker! Hungover? 😵️', 'message_10': 'Dead, burried and still suffering! 🤮️'}\n"
     ]
    }
   ],
   "source": [
    "import requests\n",
    "chat_id = 0\n",
    "data = requests.get(f'http://localhost:8080/chat/{chat_id}/list').json()\n",
    "print(data)"
   ]
  },
  {
   "cell_type": "code",
   "execution_count": 30,
   "metadata": {},
   "outputs": [
    {
     "name": "stdout",
     "output_type": "stream",
     "text": [
      "{'message_1': 'Hey Mike, whats up??', 'sentiments_message_1': {'neg': 0.0, 'neu': 1.0, 'pos': 0.0, 'compound': 0.0}, 'message_2': 'Dude!!! 😀️ Did you watch the game last night?', 'sentiments_message_2': {'neg': 0.0, 'neu': 1.0, 'pos': 0.0, 'compound': 0.0}, 'message_3': 'No, had to work. How was it?', 'sentiments_message_3': {'neg': 0.268, 'neu': 0.732, 'pos': 0.0, 'compound': -0.296}, 'message_4': 'Awesome! Boyander scored 3 goals!', 'sentiments_message_4': {'neg': 0.0, 'neu': 0.39, 'pos': 0.61, 'compound': 0.6892}, 'message_5': 'No way! 😮️', 'sentiments_message_5': {'neg': 0.555, 'neu': 0.445, 'pos': 0.0, 'compound': -0.3595}, 'message_6': 'Way...', 'sentiments_message_6': {'neg': 0.0, 'neu': 1.0, 'pos': 0.0, 'compound': 0.0}, 'message_7': 'I bet people went crazy', 'sentiments_message_7': {'neg': 0.444, 'neu': 0.556, 'pos': 0.0, 'compound': -0.34}, 'message_8': 'For sure. We stayed at KuboLoco until 6AM.', 'sentiments_message_8': {'neg': 0.0, 'neu': 0.753, 'pos': 0.247, 'compound': 0.3182}, 'message_9': 'Motherfucker! Hungover? 😵️', 'sentiments_message_9': {'neg': 0.71, 'neu': 0.29, 'pos': 0.0, 'compound': -0.7088}, 'message_10': 'Dead, burried and still suffering! 🤮️', 'sentiments_message_10': {'neg': 0.658, 'neu': 0.342, 'pos': 0.0, 'compound': -0.8268}}\n"
     ]
    }
   ],
   "source": [
    "import requests\n",
    "chat_id = 0\n",
    "newdata = requests.get(f'http://localhost:8080/chat/{chat_id}/sentiment').json()\n",
    "print(newdata)"
   ]
  },
  {
   "cell_type": "code",
   "execution_count": 38,
   "metadata": {},
   "outputs": [
    {
     "name": "stdout",
     "output_type": "stream",
     "text": [
      "{'ObjectId': '5de2d46d378e04325c060d67', 'UserId': 11}\n"
     ]
    }
   ],
   "source": [
    "import requests\n",
    "newuser = {'username': 'Cristina Rota'}\n",
    "newdata2 = requests.post('http://localhost:8080/user/create', data=newuser).json()\n",
    "print(newdata2)"
   ]
  },
  {
   "cell_type": "code",
   "execution_count": 7,
   "metadata": {},
   "outputs": [
    {
     "name": "stdout",
     "output_type": "stream",
     "text": [
      "{'ObjectId': '5de2eaa6f902c62f2345ae0e', 'ChatId': 6}\n"
     ]
    }
   ],
   "source": [
    "import requests\n",
    "newchat = {'users': '[8, 2, 4]'}\n",
    "newdata3 = requests.post('http://localhost:8080/chat/create', data=newchat).json()\n",
    "print(newdata3)"
   ]
  },
  {
   "cell_type": "code",
   "execution_count": null,
   "metadata": {},
   "outputs": [],
   "source": []
  }
 ],
 "metadata": {
  "kernelspec": {
   "display_name": "Python 3",
   "language": "python",
   "name": "python3"
  },
  "language_info": {
   "codemirror_mode": {
    "name": "ipython",
    "version": 3
   },
   "file_extension": ".py",
   "mimetype": "text/x-python",
   "name": "python",
   "nbconvert_exporter": "python",
   "pygments_lexer": "ipython3",
   "version": "3.7.3"
  }
 },
 "nbformat": 4,
 "nbformat_minor": 2
}
