{
 "cells": [
  {
   "cell_type": "code",
   "execution_count": null,
   "metadata": {},
   "outputs": [],
   "source": [
    "# Request examples:\n",
    "import requests"
   ]
  },
  {
   "cell_type": "code",
   "execution_count": 12,
   "metadata": {},
   "outputs": [
    {
     "data": {
      "text/plain": [
       "{'message_1': {'user': 'Sandra',\n",
       "  'date': '2019-12-01',\n",
       "  'time': '18:11:45',\n",
       "  'text': 'Daffodils?'},\n",
       " 'message_2': {'user': 'Edward',\n",
       "  'date': '2019-12-01',\n",
       "  'time': '18:14:14',\n",
       "  'text': \"They're your favorite flower.\"},\n",
       " 'message_3': {'user': 'Sandra',\n",
       "  'date': '2019-12-01',\n",
       "  'time': '18:14:27',\n",
       "  'text': 'How did you get so many?'},\n",
       " 'message_4': {'user': 'Edward',\n",
       "  'date': '2019-12-01',\n",
       "  'time': '18:14:45',\n",
       "  'text': 'I called everywhere in five states and explained this was the only way I could get my wife to marry me.'},\n",
       " 'message_5': {'user': 'Sandra',\n",
       "  'date': '2019-12-01',\n",
       "  'time': '18:15:05',\n",
       "  'text': \"You don't even know me.\"},\n",
       " 'message_6': {'user': 'Edward',\n",
       "  'date': '2019-12-01',\n",
       "  'time': '18:15:20',\n",
       "  'text': 'I have the rest of my life to find out.'}}"
      ]
     },
     "execution_count": 12,
     "metadata": {},
     "output_type": "execute_result"
    }
   ],
   "source": [
    "# Get chat messages:\n",
    "chat_id = 8\n",
    "# messages = requests.get(f'http://localhost:8080/chat/{chat_id}/list').json()\n",
    "messages = requests.get(f'http://chatsentimentapi.herokuapp.com/chat/{chat_id}/list').json()\n",
    "messages"
   ]
  },
  {
   "cell_type": "code",
   "execution_count": 13,
   "metadata": {},
   "outputs": [
    {
     "data": {
      "text/plain": [
       "{'messages': {'message_1': {'user': 'Sandra',\n",
       "   'date': '2019-12-01',\n",
       "   'time': '18:11:45',\n",
       "   'text': 'Daffodils?',\n",
       "   'sentiments': {'neg': 0.0, 'neu': 1.0, 'pos': 0.0, 'compound': 0.0}},\n",
       "  'message_2': {'user': 'Edward',\n",
       "   'date': '2019-12-01',\n",
       "   'time': '18:14:14',\n",
       "   'text': \"They're your favorite flower.\",\n",
       "   'sentiments': {'neg': 0.0, 'neu': 0.5, 'pos': 0.5, 'compound': 0.4588}},\n",
       "  'message_3': {'user': 'Sandra',\n",
       "   'date': '2019-12-01',\n",
       "   'time': '18:14:27',\n",
       "   'text': 'How did you get so many?',\n",
       "   'sentiments': {'neg': 0.0, 'neu': 1.0, 'pos': 0.0, 'compound': 0.0}},\n",
       "  'message_4': {'user': 'Edward',\n",
       "   'date': '2019-12-01',\n",
       "   'time': '18:14:45',\n",
       "   'text': 'I called everywhere in five states and explained this was the only way I could get my wife to marry me.',\n",
       "   'sentiments': {'neg': 0.0, 'neu': 1.0, 'pos': 0.0, 'compound': 0.0}},\n",
       "  'message_5': {'user': 'Sandra',\n",
       "   'date': '2019-12-01',\n",
       "   'time': '18:15:05',\n",
       "   'text': \"You don't even know me.\",\n",
       "   'sentiments': {'neg': 0.0, 'neu': 1.0, 'pos': 0.0, 'compound': 0.0}},\n",
       "  'message_6': {'user': 'Edward',\n",
       "   'date': '2019-12-01',\n",
       "   'time': '18:15:20',\n",
       "   'text': 'I have the rest of my life to find out.',\n",
       "   'sentiments': {'neg': 0.0, 'neu': 1.0, 'pos': 0.0, 'compound': 0.0}}},\n",
       " 'chat_sentiment_analysis': {'mean_neg': 0.0,\n",
       "  'mean_neu': 0.9166666666666666,\n",
       "  'mean_pos': 0.08333333333333333,\n",
       "  'mean_compound': 0.07646666666666667}}"
      ]
     },
     "execution_count": 13,
     "metadata": {},
     "output_type": "execute_result"
    }
   ],
   "source": [
    "# Get sentiments from messages:\n",
    "chat_id = 8\n",
    "# sentiments = requests.get(f'http://localhost:8080/chat/{chat_id}/sentiment').json()\n",
    "sentiments = requests.get(f'http://chatsentimentapi.herokuapp.com/chat/{chat_id}/sentiment').json()\n",
    "sentiments"
   ]
  },
  {
   "cell_type": "code",
   "execution_count": 14,
   "metadata": {},
   "outputs": [
    {
     "data": {
      "text/plain": [
       "{'recommended_users_ids': [3, 9, 16],\n",
       " 'recommended_users_names': ['Tony Stark', 'Alex Mendez', 'Sandra']}"
      ]
     },
     "execution_count": 14,
     "metadata": {},
     "output_type": "execute_result"
    }
   ],
   "source": [
    "# Get user recommendations:\n",
    "user_id = 8\n",
    "# recommendations = requests.get(f'http://localhost:8080/user/{user_id}/recommend').json()\n",
    "recommendations = requests.get(f'http://chatsentimentapi.herokuapp.com/user/{user_id}/recommend').json()\n",
    "recommendations"
   ]
  },
  {
   "cell_type": "code",
   "execution_count": 19,
   "metadata": {},
   "outputs": [
    {
     "data": {
      "text/plain": [
       "{'Exception': 'Sorry, there is already a user with that exact name in the database'}"
      ]
     },
     "execution_count": 19,
     "metadata": {},
     "output_type": "execute_result"
    }
   ],
   "source": [
    "# Add a new user:\n",
    "newuser = {'username': 'Cristina Rota'}\n",
    "# users = requests.post('http://localhost:8080/user/create', data=newuser).json()\n",
    "users = requests.post('http://chatsentimentapi.herokuapp.com/user/create', data=newuser).json()\n",
    "users"
   ]
  },
  {
   "cell_type": "code",
   "execution_count": 20,
   "metadata": {},
   "outputs": [
    {
     "data": {
      "text/plain": [
       "{'ObjectId': '5de57332bf78a3f88b467608', 'ChatId': 11}"
      ]
     },
     "execution_count": 20,
     "metadata": {},
     "output_type": "execute_result"
    }
   ],
   "source": [
    "# Add a new chat:\n",
    "newchat = {'users': '[8, 4]'}\n",
    "# chats = requests.post('http://localhost:8080/chat/create', data=newchat).json()\n",
    "chats = requests.post('http://chatsentimentapi.herokuapp.com/chat/create', data=newchat).json()\n",
    "chats"
   ]
  },
  {
   "cell_type": "code",
   "execution_count": 21,
   "metadata": {},
   "outputs": [
    {
     "data": {
      "text/plain": [
       "{'Exception': 'Sorry, this user is already part of the chat'}"
      ]
     },
     "execution_count": 21,
     "metadata": {},
     "output_type": "execute_result"
    }
   ],
   "source": [
    "# Add a user to an existing chat:\n",
    "chat_id = 0\n",
    "user = {'userId': 1}\n",
    "# usertochat = requests.post(f'http://localhost:8080/chat/{chat_id}/adduser', data=user).json()\n",
    "usertochat = requests.post(f'http://chatsentimentapi.herokuapp.com/chat/{chat_id}/adduser', data=user).json()\n",
    "usertochat"
   ]
  },
  {
   "cell_type": "code",
   "execution_count": 24,
   "metadata": {},
   "outputs": [
    {
     "data": {
      "text/plain": [
       "{'Exception': 'Sorry, this user is not part of the chat. You must add him/her first.'}"
      ]
     },
     "execution_count": 24,
     "metadata": {},
     "output_type": "execute_result"
    }
   ],
   "source": [
    "# Add a message to an existing chat:\n",
    "chat_id = 0\n",
    "message = {'user':5, 'message':'Hi!'}\n",
    "# newMessage = requests.post(f'http://localhost:8080/chat/{chat_id}/addmessage', data=message).json()\n",
    "newMessage = requests.post(f'http://chatsentimentapi.herokuapp.com/chat/{chat_id}/addmessage', data=message).json()\n",
    "newMessage"
   ]
  }
 ],
 "metadata": {
  "kernelspec": {
   "display_name": "Python 3",
   "language": "python",
   "name": "python3"
  },
  "language_info": {
   "codemirror_mode": {
    "name": "ipython",
    "version": 3
   },
   "file_extension": ".py",
   "mimetype": "text/x-python",
   "name": "python",
   "nbconvert_exporter": "python",
   "pygments_lexer": "ipython3",
   "version": "3.7.3"
  }
 },
 "nbformat": 4,
 "nbformat_minor": 2
}
