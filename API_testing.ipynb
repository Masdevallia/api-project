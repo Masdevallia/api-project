{
 "cells": [
  {
   "cell_type": "code",
   "execution_count": 33,
   "metadata": {},
   "outputs": [
    {
     "name": "stdout",
     "output_type": "stream",
     "text": [
      "{'Exception': 'Sorry, this chat does not exist in the database'}\n"
     ]
    }
   ],
   "source": [
    "import requests\n",
    "chat_id = 15\n",
    "data = requests.get(f'http://localhost:8080/chat/{chat_id}/list').json()\n",
    "print(data)"
   ]
  },
  {
   "cell_type": "code",
   "execution_count": 37,
   "metadata": {},
   "outputs": [
    {
     "name": "stdout",
     "output_type": "stream",
     "text": [
      "{'Exception': 'Sorry, this chat does not exist in the database'}\n"
     ]
    }
   ],
   "source": [
    "import requests\n",
    "chat_id = 15\n",
    "newdata = requests.get(f'http://localhost:8080/chat/{chat_id}/sentiment').json()\n",
    "print(newdata)"
   ]
  },
  {
   "cell_type": "code",
   "execution_count": 38,
   "metadata": {},
   "outputs": [
    {
     "name": "stdout",
     "output_type": "stream",
     "text": [
      "{'ObjectId': '5de2d46d378e04325c060d67', 'UserId': 11}\n"
     ]
    }
   ],
   "source": [
    "import requests\n",
    "newuser = {'username': 'Cristina Rota'}\n",
    "newdata2 = requests.post('http://localhost:8080/user/create', data=newuser).json()\n",
    "print(newdata2)"
   ]
  },
  {
   "cell_type": "code",
   "execution_count": 16,
   "metadata": {},
   "outputs": [
    {
     "name": "stdout",
     "output_type": "stream",
     "text": [
      "{'Exception': 'Sorry, one or more of the users you are trying to include do not exist in the database. You must create them first.'}\n"
     ]
    }
   ],
   "source": [
    "import requests\n",
    "newchat = {'users': '[8, 2, 24]'}\n",
    "newdata3 = requests.post('http://localhost:8080/chat/create', data=newchat).json()\n",
    "print(newdata3)"
   ]
  },
  {
   "cell_type": "code",
   "execution_count": 15,
   "metadata": {},
   "outputs": [
    {
     "name": "stdout",
     "output_type": "stream",
     "text": [
      "{'Exception': 'Sorry, the user you are trying to include does not exist in the database. You must create it first.'}\n"
     ]
    }
   ],
   "source": [
    "import requests\n",
    "chat_id = 0\n",
    "user = {'userId': 23}\n",
    "newdata4 = requests.post(f'http://localhost:8080/chat/{chat_id}/adduser', data=user).json()\n",
    "print(newdata4)"
   ]
  },
  {
   "cell_type": "code",
   "execution_count": null,
   "metadata": {},
   "outputs": [],
   "source": []
  }
 ],
 "metadata": {
  "kernelspec": {
   "display_name": "Python 3",
   "language": "python",
   "name": "python3"
  },
  "language_info": {
   "codemirror_mode": {
    "name": "ipython",
    "version": 3
   },
   "file_extension": ".py",
   "mimetype": "text/x-python",
   "name": "python",
   "nbconvert_exporter": "python",
   "pygments_lexer": "ipython3",
   "version": "3.7.3"
  }
 },
 "nbformat": 4,
 "nbformat_minor": 2
}
