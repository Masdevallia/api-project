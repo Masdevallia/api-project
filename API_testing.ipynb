{
 "cells": [
  {
   "cell_type": "code",
   "execution_count": 9,
   "metadata": {},
   "outputs": [
    {
     "name": "stdout",
     "output_type": "stream",
     "text": [
      "{'message_1': {'user': 'Leia Organa', 'date': '2019-10-18', 'time': '10:15:41', 'text': 'Im so angry right now!'}, 'message_2': {'user': 'Tony Stark', 'date': '2019-10-18', 'time': '10:16:41', 'text': 'I saw you this morning. You shouldnt get so upset. ❤️'}, 'message_3': {'user': 'Leia Organa', 'date': '2019-10-18', 'time': '10:17:41', 'text': 'Impossible! Cant do it! Just cant! He pissed me off so much.'}, 'message_4': {'user': 'Tony Stark', 'date': '2019-10-18', 'time': '10:18:41', 'text': 'Dont get so frustrated, Leia. Remember what German said.'}, 'message_5': {'user': 'Leia Organa', 'date': '2019-10-18', 'time': '10:19:41', 'text': 'But how am I suposed to fix the facial recognition system if it doesnt even work?'}, 'message_6': {'user': 'Tony Stark', 'date': '2019-10-18', 'time': '10:20:41', 'text': 'Im sure you will find a way.'}, 'message_7': {'user': 'Leia Organa', 'date': '2019-10-18', 'time': '10:21:41', 'text': 'And who the hell is Tony? 🤯️'}, 'message_8': {'user': 'Tony Stark', 'date': '2019-10-18', 'time': '10:22:41', 'text': 'I am Iron Man'}, 'message_9': {'user': 'Leia Organa', 'date': '2019-10-18', 'time': '10:23:41', 'text': 'Oh shit. I think youre friends with my brother.'}, 'message_10': {'user': 'Tony Stark', 'date': '2019-10-18', 'time': '10:24:41', 'text': 'Uh-Oh. Better fix that quickly.'}}\n"
     ]
    }
   ],
   "source": [
    "import requests\n",
    "chat_id = 1\n",
    "data = requests.get(f'http://localhost:8080/chat/{chat_id}/list').json()\n",
    "print(data)"
   ]
  },
  {
   "cell_type": "code",
   "execution_count": 15,
   "metadata": {},
   "outputs": [
    {
     "name": "stdout",
     "output_type": "stream",
     "text": [
      "{'message_1': {'user': 'J. Jonah Jameson', 'date': '2019-10-20', 'time': '10:15:41', 'text': 'I want pictures of Spiderman and I want them now!', 'sentiments': {'neg': 0.0, 'neu': 0.675, 'pos': 0.325, 'compound': 0.2244}}, 'message_2': {'user': 'John Wick', 'date': '2019-10-20', 'time': '10:16:41', 'text': 'Sure, boss.', 'sentiments': {'neg': 0.0, 'neu': 0.303, 'pos': 0.697, 'compound': 0.3182}}, 'message_3': {'user': 'J. Jonah Jameson', 'date': '2019-10-20', 'time': '10:17:41', 'text': 'Youve got to take me seriously.', 'sentiments': {'neg': 0.254, 'neu': 0.746, 'pos': 0.0, 'compound': -0.1779}}, 'message_4': {'user': 'John Wick', 'date': '2019-10-20', 'time': '10:18:41', 'text': 'I do! I just dont feel appreciated in my job', 'sentiments': {'neg': 0.3, 'neu': 0.7, 'pos': 0.0, 'compound': -0.4577}}, 'message_5': {'user': 'J. Jonah Jameson', 'date': '2019-10-20', 'time': '10:19:41', 'text': 'Thats why youve got to get those damm pictures!!', 'sentiments': {'neg': 0.0, 'neu': 1.0, 'pos': 0.0, 'compound': 0.0}}, 'message_6': {'user': 'John Wick', 'date': '2019-10-20', 'time': '10:20:41', 'text': 'I dunno...', 'sentiments': {'neg': 0.0, 'neu': 1.0, 'pos': 0.0, 'compound': 0.0}}, 'message_7': {'user': 'J. Jonah Jameson', 'date': '2019-10-20', 'time': '10:21:41', 'text': 'Get the god damn motherfucking fuckity fuck bloody ballsack pictures', 'sentiments': {'neg': 0.645, 'neu': 0.25, 'pos': 0.105, 'compound': -0.8957}}, 'message_8': {'user': 'John Wick', 'date': '2019-10-20', 'time': '10:22:41', 'text': 'Maybe', 'sentiments': {'neg': 0.0, 'neu': 1.0, 'pos': 0.0, 'compound': 0.0}}, 'message_9': {'user': 'J. Jonah Jameson', 'date': '2019-10-20', 'time': '10:23:41', 'text': 'Youve got to! And I believe in you', 'sentiments': {'neg': 0.0, 'neu': 1.0, 'pos': 0.0, 'compound': 0.0}}, 'message_10': {'user': 'John Wick', 'date': '2019-10-20', 'time': '10:24:41', 'text': 'Thank you, boss! I feel much better...', 'sentiments': {'neg': 0.0, 'neu': 0.642, 'pos': 0.358, 'compound': 0.4199}}}\n"
     ]
    }
   ],
   "source": [
    "import requests\n",
    "chat_id = 3\n",
    "newdata = requests.get(f'http://localhost:8080/chat/{chat_id}/sentiment').json()\n",
    "print(newdata)"
   ]
  },
  {
   "cell_type": "code",
   "execution_count": 38,
   "metadata": {},
   "outputs": [
    {
     "name": "stdout",
     "output_type": "stream",
     "text": [
      "{'ObjectId': '5de2d46d378e04325c060d67', 'UserId': 11}\n"
     ]
    }
   ],
   "source": [
    "import requests\n",
    "newuser = {'username': 'Cristina Rota'}\n",
    "newdata2 = requests.post('http://localhost:8080/user/create', data=newuser).json()\n",
    "print(newdata2)"
   ]
  },
  {
   "cell_type": "code",
   "execution_count": 16,
   "metadata": {},
   "outputs": [
    {
     "name": "stdout",
     "output_type": "stream",
     "text": [
      "{'Exception': 'Sorry, one or more of the users you are trying to include do not exist in the database. You must create them first.'}\n"
     ]
    }
   ],
   "source": [
    "import requests\n",
    "newchat = {'users': '[8, 2, 24]'}\n",
    "newdata3 = requests.post('http://localhost:8080/chat/create', data=newchat).json()\n",
    "print(newdata3)"
   ]
  },
  {
   "cell_type": "code",
   "execution_count": 15,
   "metadata": {},
   "outputs": [
    {
     "name": "stdout",
     "output_type": "stream",
     "text": [
      "{'Exception': 'Sorry, the user you are trying to include does not exist in the database. You must create it first.'}\n"
     ]
    }
   ],
   "source": [
    "import requests\n",
    "chat_id = 0\n",
    "user = {'userId': 23}\n",
    "newdata4 = requests.post(f'http://localhost:8080/chat/{chat_id}/adduser', data=user).json()\n",
    "print(newdata4)"
   ]
  },
  {
   "cell_type": "code",
   "execution_count": 13,
   "metadata": {},
   "outputs": [
    {
     "name": "stdout",
     "output_type": "stream",
     "text": [
      "{'ObjectId': '5de31912ce20f75349e2a569', 'MessageId': 2}\n"
     ]
    }
   ],
   "source": [
    "import requests\n",
    "chat_id = 5\n",
    "message = {'user':10, 'message':'Hi!'}\n",
    "newdata5 = requests.post(f'http://localhost:8080/chat/{chat_id}/addmessage', data=message).json()\n",
    "print(newdata5)"
   ]
  },
  {
   "cell_type": "code",
   "execution_count": null,
   "metadata": {},
   "outputs": [],
   "source": []
  }
 ],
 "metadata": {
  "kernelspec": {
   "display_name": "Python 3",
   "language": "python",
   "name": "python3"
  },
  "language_info": {
   "codemirror_mode": {
    "name": "ipython",
    "version": 3
   },
   "file_extension": ".py",
   "mimetype": "text/x-python",
   "name": "python",
   "nbconvert_exporter": "python",
   "pygments_lexer": "ipython3",
   "version": "3.7.3"
  }
 },
 "nbformat": 4,
 "nbformat_minor": 2
}
