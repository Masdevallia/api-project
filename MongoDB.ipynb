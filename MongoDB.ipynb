{
 "cells": [
  {
   "cell_type": "code",
   "execution_count": 2,
   "metadata": {},
   "outputs": [],
   "source": [
    "from bottle import route, run, get, post, request\n",
    "import bson\n",
    "import os\n",
    "import json\n",
    "import re\n",
    "from dotenv import load_dotenv\n",
    "load_dotenv()\n",
    "import datetime\n",
    "from src.mongo import connectCollection\n",
    "from src.sentiment import sentimentAnalyzer"
   ]
  },
  {
   "cell_type": "code",
   "execution_count": 44,
   "metadata": {},
   "outputs": [],
   "source": [
    "chat_id = 0\n",
    "messages = getMessages(chat_id)"
   ]
  },
  {
   "cell_type": "code",
   "execution_count": 45,
   "metadata": {},
   "outputs": [
    {
     "data": {
      "text/plain": [
       "{'message_1': {'user': 'John Wick',\n",
       "  'date': '2019-10-17',\n",
       "  'time': '10:15:41',\n",
       "  'text': 'Hey Mike, whats up??'},\n",
       " 'message_2': {'user': 'Mike Wazowski',\n",
       "  'date': '2019-10-17',\n",
       "  'time': '10:16:59',\n",
       "  'text': 'Dude!!! 😀️ Did you watch the game last night?'},\n",
       " 'message_3': {'user': 'John Wick',\n",
       "  'date': '2019-10-17',\n",
       "  'time': '10:17:31',\n",
       "  'text': 'No, had to work. How was it?'},\n",
       " 'message_4': {'user': 'Mike Wazowski',\n",
       "  'date': '2019-10-17',\n",
       "  'time': '10:18:41',\n",
       "  'text': 'Awesome! Boyander scored 3 goals!'},\n",
       " 'message_5': {'user': 'John Wick',\n",
       "  'date': '2019-10-17',\n",
       "  'time': '10:19:41',\n",
       "  'text': 'No way! 😮️'},\n",
       " 'message_6': {'user': 'Mike Wazowski',\n",
       "  'date': '2019-10-17',\n",
       "  'time': '10:20:41',\n",
       "  'text': 'Way...'},\n",
       " 'message_7': {'user': 'John Wick',\n",
       "  'date': '2019-10-17',\n",
       "  'time': '10:21:41',\n",
       "  'text': 'I bet people went crazy'},\n",
       " 'message_8': {'user': 'Mike Wazowski',\n",
       "  'date': '2019-10-17',\n",
       "  'time': '10:22:41',\n",
       "  'text': 'For sure. We stayed at KuboLoco until 6AM.'},\n",
       " 'message_9': {'user': 'John Wick',\n",
       "  'date': '2019-10-17',\n",
       "  'time': '10:23:41',\n",
       "  'text': 'Motherfucker! Hungover? 😵️'},\n",
       " 'message_10': {'user': 'Mike Wazowski',\n",
       "  'date': '2019-10-17',\n",
       "  'time': '10:24:41',\n",
       "  'text': 'Dead, burried and still suffering! 🤮️'},\n",
       " 'message_11': {'user': 'John Wick',\n",
       "  'date': '2019-12-01',\n",
       "  'time': '01:06:52',\n",
       "  'text': 'hahaha'},\n",
       " 'message_12': {'user': 'Mike Wazowski',\n",
       "  'date': '2019-12-01',\n",
       "  'time': '01:12:38',\n",
       "  'text': 'Moron!'},\n",
       " 'message_13': {'user': 'John Wick',\n",
       "  'date': '2019-12-01',\n",
       "  'time': '01:23:02',\n",
       "  'text': 'Sorry dude...'}}"
      ]
     },
     "execution_count": 45,
     "metadata": {},
     "output_type": "execute_result"
    }
   ],
   "source": [
    "messages"
   ]
  },
  {
   "cell_type": "code",
   "execution_count": 51,
   "metadata": {},
   "outputs": [],
   "source": [
    "def sentimentAnalyzer(data):\n",
    "    sid = SentimentIntensityAnalyzer()\n",
    "    newdata = {}\n",
    "    for key, value in data.items():\n",
    "        newdata[key] = value\n",
    "        newdata[key]['sentiments'] = sid.polarity_scores(value['text'])\n",
    "    return newdata"
   ]
  },
  {
   "cell_type": "code",
   "execution_count": 52,
   "metadata": {},
   "outputs": [
    {
     "data": {
      "text/plain": [
       "{'message_1': {'user': 'John Wick',\n",
       "  'date': '2019-10-17',\n",
       "  'time': '10:15:41',\n",
       "  'text': 'Hey Mike, whats up??',\n",
       "  'sentiments': {'neg': 0.0, 'neu': 1.0, 'pos': 0.0, 'compound': 0.0}},\n",
       " 'message_2': {'user': 'Mike Wazowski',\n",
       "  'date': '2019-10-17',\n",
       "  'time': '10:16:59',\n",
       "  'text': 'Dude!!! 😀️ Did you watch the game last night?',\n",
       "  'sentiments': {'neg': 0.0, 'neu': 1.0, 'pos': 0.0, 'compound': 0.0}},\n",
       " 'message_3': {'user': 'John Wick',\n",
       "  'date': '2019-10-17',\n",
       "  'time': '10:17:31',\n",
       "  'text': 'No, had to work. How was it?',\n",
       "  'sentiments': {'neg': 0.268, 'neu': 0.732, 'pos': 0.0, 'compound': -0.296}},\n",
       " 'message_4': {'user': 'Mike Wazowski',\n",
       "  'date': '2019-10-17',\n",
       "  'time': '10:18:41',\n",
       "  'text': 'Awesome! Boyander scored 3 goals!',\n",
       "  'sentiments': {'neg': 0.0, 'neu': 0.39, 'pos': 0.61, 'compound': 0.6892}},\n",
       " 'message_5': {'user': 'John Wick',\n",
       "  'date': '2019-10-17',\n",
       "  'time': '10:19:41',\n",
       "  'text': 'No way! 😮️',\n",
       "  'sentiments': {'neg': 0.555, 'neu': 0.445, 'pos': 0.0, 'compound': -0.3595}},\n",
       " 'message_6': {'user': 'Mike Wazowski',\n",
       "  'date': '2019-10-17',\n",
       "  'time': '10:20:41',\n",
       "  'text': 'Way...',\n",
       "  'sentiments': {'neg': 0.0, 'neu': 1.0, 'pos': 0.0, 'compound': 0.0}},\n",
       " 'message_7': {'user': 'John Wick',\n",
       "  'date': '2019-10-17',\n",
       "  'time': '10:21:41',\n",
       "  'text': 'I bet people went crazy',\n",
       "  'sentiments': {'neg': 0.444, 'neu': 0.556, 'pos': 0.0, 'compound': -0.34}},\n",
       " 'message_8': {'user': 'Mike Wazowski',\n",
       "  'date': '2019-10-17',\n",
       "  'time': '10:22:41',\n",
       "  'text': 'For sure. We stayed at KuboLoco until 6AM.',\n",
       "  'sentiments': {'neg': 0.0, 'neu': 0.753, 'pos': 0.247, 'compound': 0.3182}},\n",
       " 'message_9': {'user': 'John Wick',\n",
       "  'date': '2019-10-17',\n",
       "  'time': '10:23:41',\n",
       "  'text': 'Motherfucker! Hungover? 😵️',\n",
       "  'sentiments': {'neg': 0.71, 'neu': 0.29, 'pos': 0.0, 'compound': -0.7088}},\n",
       " 'message_10': {'user': 'Mike Wazowski',\n",
       "  'date': '2019-10-17',\n",
       "  'time': '10:24:41',\n",
       "  'text': 'Dead, burried and still suffering! 🤮️',\n",
       "  'sentiments': {'neg': 0.658, 'neu': 0.342, 'pos': 0.0, 'compound': -0.8268}},\n",
       " 'message_11': {'user': 'John Wick',\n",
       "  'date': '2019-12-01',\n",
       "  'time': '01:06:52',\n",
       "  'text': 'hahaha',\n",
       "  'sentiments': {'neg': 0.0, 'neu': 0.0, 'pos': 1.0, 'compound': 0.5574}},\n",
       " 'message_12': {'user': 'Mike Wazowski',\n",
       "  'date': '2019-12-01',\n",
       "  'time': '01:12:38',\n",
       "  'text': 'Moron!',\n",
       "  'sentiments': {'neg': 1.0, 'neu': 0.0, 'pos': 0.0, 'compound': -0.5411}},\n",
       " 'message_13': {'user': 'John Wick',\n",
       "  'date': '2019-12-01',\n",
       "  'time': '01:23:02',\n",
       "  'text': 'Sorry dude...',\n",
       "  'sentiments': {'neg': 0.565, 'neu': 0.435, 'pos': 0.0, 'compound': -0.0772}}}"
      ]
     },
     "execution_count": 52,
     "metadata": {},
     "output_type": "execute_result"
    }
   ],
   "source": [
    "messagesSentiment = sentimentAnalyzer(messages)\n",
    "messagesSentiment"
   ]
  },
  {
   "cell_type": "code",
   "execution_count": 100,
   "metadata": {},
   "outputs": [
    {
     "data": {
      "text/plain": [
       "0.0"
      ]
     },
     "execution_count": 100,
     "metadata": {},
     "output_type": "execute_result"
    }
   ],
   "source": [
    "messagesSentiment['message_1']['sentiments']['compound']"
   ]
  },
  {
   "cell_type": "code",
   "execution_count": 102,
   "metadata": {},
   "outputs": [],
   "source": [
    "compoundList = [value['sentiments']['compound'] for key,value in messagesSentiment.items()]"
   ]
  },
  {
   "cell_type": "code",
   "execution_count": 103,
   "metadata": {},
   "outputs": [
    {
     "name": "stdout",
     "output_type": "stream",
     "text": [
      "[0.0, 0.0, -0.296, 0.6892, -0.3595, 0.0, -0.34, 0.3182, -0.7088, -0.8268, 0.5574, -0.5411, -0.0772]\n"
     ]
    }
   ],
   "source": [
    "print(compoundList)"
   ]
  },
  {
   "cell_type": "code",
   "execution_count": 123,
   "metadata": {},
   "outputs": [],
   "source": [
    "import pandas as pd\n",
    "df = pd.DataFrame(compoundList, columns=['compound'])\n",
    "df['message'] = [e for e in range(1,len(messagesSentiment.keys())+1)]\n",
    "df['sentiments'] = ['positive' if e > 0 else ('negative' if e < 0 else 'neutral') for e in compoundList]"
   ]
  },
  {
   "cell_type": "code",
   "execution_count": 144,
   "metadata": {},
   "outputs": [
    {
     "data": {
      "image/png": "[encoded data removed]",
      "text/plain": [
       "<Figure size 441.35x360 with 1 Axes>"
      ]
     },
     "metadata": {},
     "output_type": "display_data"
    }
   ],
   "source": [
    "import matplotlib.pyplot as plt\n",
    "%matplotlib inline\n",
    "import seaborn as sns\n",
    "sns.set(style=\"white\")\n",
    "g = sns.lmplot(x = 'message', y= 'compound', hue='sentiments', data=df, fit_reg=False)\n",
    "h = sns.regplot(x = 'message', y= 'compound', data=df, scatter=False, ax=g.axes[0, 0],\n",
    "                color='orange', ci=None)\n",
    "g._legend.remove()\n",
    "h.set_title('Sentiment analysis')\n",
    "plt.legend(bbox_to_anchor=(1.05, 1), loc=2, borderaxespad=0.);"
   ]
  },
  {
   "cell_type": "code",
   "execution_count": null,
   "metadata": {},
   "outputs": [],
   "source": []
  }
 ],
 "metadata": {
  "kernelspec": {
   "display_name": "Python 3",
   "language": "python",
   "name": "python3"
  },
  "language_info": {
   "codemirror_mode": {
    "name": "ipython",
    "version": 3
   },
   "file_extension": ".py",
   "mimetype": "text/x-python",
   "name": "python",
   "nbconvert_exporter": "python",
   "pygments_lexer": "ipython3",
   "version": "3.7.3"
  }
 },
 "nbformat": 4,
 "nbformat_minor": 2
}
